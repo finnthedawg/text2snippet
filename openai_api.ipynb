{
 "cells": [
  {
   "cell_type": "code",
   "execution_count": 9,
   "metadata": {},
   "outputs": [],
   "source": [
    "import os\n",
    "import openai\n",
    "import json"
   ]
  },
  {
   "cell_type": "code",
   "execution_count": 2,
   "metadata": {},
   "outputs": [],
   "source": [
    "#Load API keys saved in keys.txt\n",
    "keyfile = open(\"keys.txt\", \"r\")\n",
    "line = keyfile.readline()\n",
    "line = line.strip()\n",
    "openai.api_key = line\n"
   ]
  },
  {
   "cell_type": "code",
   "execution_count": 5,
   "metadata": {},
   "outputs": [],
   "source": [
    "#DOCS: https://beta.openai.com/docs/api-reference?lang=python\n",
    "\n",
    "#Engines:\n",
    "#davinci\n",
    "#curie\n",
    "#babbage\n",
    "#ada\n",
    "response = openai.Completion.create(\n",
    "    engine=\"davinci\",\n",
    "    temperature = 0.0,\n",
    "    top_p = 1,\n",
    "    prompt=\"This is a test\",\n",
    "    max_tokens=50,\n",
    "    stop='\\n'\n",
    "    )"
   ]
  },
  {
   "cell_type": "code",
   "execution_count": 6,
   "metadata": {},
   "outputs": [
    {
     "name": "stdout",
     "output_type": "stream",
     "text": [
      "{\n",
      "  \"choices\": [\n",
      "    {\n",
      "      \"finish_reason\": \"stop\",\n",
      "      \"index\": 0,\n",
      "      \"logprobs\": null,\n",
      "      \"text\": \" of the emergency broadcast system. This is only a test.\\u201d\"\n",
      "    }\n",
      "  ],\n",
      "  \"created\": 1619094699,\n",
      "  \"id\": \"cmpl-2rSmZR57R5bTT00ftXRqMucHe1uaX\",\n",
      "  \"model\": \"davinci:2020-05-03\",\n",
      "  \"object\": \"text_completion\"\n",
      "}\n"
     ]
    }
   ],
   "source": [
    "print(response)"
   ]
  },
  {
   "cell_type": "code",
   "execution_count": 38,
   "metadata": {},
   "outputs": [],
   "source": [
    "response_dict = response.to_dict()\n",
    "text = response_dict[\"choices\"][0][\"text\"]"
   ]
  },
  {
   "cell_type": "code",
   "execution_count": 39,
   "metadata": {},
   "outputs": [
    {
     "name": "stdout",
     "output_type": "stream",
     "text": [
      " of the emergency broadcast system. This is only a test.”\n"
     ]
    }
   ],
   "source": [
    "print(text)"
   ]
  },
  {
   "cell_type": "code",
   "execution_count": null,
   "metadata": {},
   "outputs": [],
   "source": [
    "def loadDataset(datasetPath):\n",
    "    dataset = open(datasetPath, 'w')"
   ]
  }
 ],
 "metadata": {
  "kernelspec": {
   "display_name": "Python 3",
   "language": "python",
   "name": "python3"
  },
  "language_info": {
   "codemirror_mode": {
    "name": "ipython",
    "version": 3
   },
   "file_extension": ".py",
   "mimetype": "text/x-python",
   "name": "python",
   "nbconvert_exporter": "python",
   "pygments_lexer": "ipython3",
   "version": "3.8.8"
  }
 },
 "nbformat": 4,
 "nbformat_minor": 2
}
